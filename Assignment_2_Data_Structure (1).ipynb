{
  "nbformat": 4,
  "nbformat_minor": 0,
  "metadata": {
    "colab": {
      "provenance": []
    },
    "kernelspec": {
      "name": "python3",
      "display_name": "Python 3"
    },
    "language_info": {
      "name": "python"
    }
  },
  "cells": [
    {
      "cell_type": "code",
      "execution_count": null,
      "metadata": {
        "id": "Mek6QFofS43P"
      },
      "outputs": [],
      "source": []
    },
    {
      "cell_type": "markdown",
      "source": [
        "**Assignment -2 - Python Data Structure**\n",
        "\n",
        "\n",
        "Q1 - **What are data structures, and why are they important** ?\n",
        "\n",
        "- Data structures are specialized formats for organizing, storing, and accessing collections of data. They provide efficient ways to manage information based on its characteristics and intended use.\n",
        "\n",
        "**Why they are important **\n",
        "\n",
        "- Choosing the right data structure significantly impacts the efficiency and performance of your program.\n",
        "- Well-chosen data structures can:\n",
        "- Simplify data manipulation (adding, removing, modifying elements)\n",
        "- Optimize searching and sorting operations\n",
        "Conserve memory usage\n",
        "\n",
        "Q2 - **Explain the difference between mutable and immutable data types with examples ?**\n",
        "\n",
        "- In Python, the main difference between mutable and immutable data types is that mutable data types can be changed after they are created, while immutable data types cannot\n",
        "\n",
        "**Mutable Data Types**\n",
        "\n",
        "These data types can be modified after they are created.\n",
        "\n",
        " Examples :  lists, dictionaries, and sets.\n",
        "\n",
        " List - List is ordered collection of elements that can be of any kind of Data type\n",
        "\n",
        "- a=[1,2,3,\"ankit\",\"Bisht\"]\n",
        "- a.append(\"PW\")    # Add new element on list\n",
        "- print(a)           # Output: [1, 2, 3, ankit, Bisht,PW]\n",
        "\n",
        "Dictonaries - Dictonary is data structure that store data as key value pair\n",
        "-  dict = {\"a\": 1, \"b\": 2}\n",
        "- dict[\"c\"] = 3     # Adds a new key-value pair\n",
        "- print(dict)       # Output: {'a': 1, 'b': 2, 'c': 3} -\n",
        "\n",
        "Sets - Sets are used to store multiple items in a single variable.\n",
        "\n",
        "- myset = {\"apple\", \"banana\", \"cherry\"}\n",
        "\n",
        "- print(myset)      # output : {'apple', 'banana', 'cherry'}\n",
        "\n",
        "\n",
        "\n",
        "**Immutable Data Types**\n",
        "\n",
        "These data types cannot be changed once they are set.\n",
        "\n",
        "Examples : strings and tuples.\n",
        "\n",
        "Strings: Modifying a string creates a new string object.\n",
        "\n",
        "- my_string = \"hello\"\n",
        "- new_string = my_string + \" world\"  # Creates a new string\n",
        "- print(my_string)  # Output: \"hello\" (original remains unchanged)\n",
        "- print(new_string)  # Output: \"hello world\"\n",
        "\n",
        "Tuples: Tuples cannot be changed after creation.\n",
        "- my_tuple = (1, 2, 3)\n",
        "- print(my_tuple)  # Output: (1, 2, 3)\n",
        "\n",
        "Numbers (int, float, etc.): Any arithmetic operation creates a new object.\n",
        "- x = 5\n",
        "-y = x + 1     # Creates a new integer object\n",
        "- print(x)     # Output: 5\n",
        "- print(y)     # Output: 6\n",
        "\n",
        "\n",
        "Q3- **What are the main differences between lists and tuples in Python ?**\n",
        "\n",
        "1.Mutability\n",
        "\n",
        "  - List - List is mutable , can be modify after list is created , add or remove the elements.\n",
        "  - Tuples - Tuple is immutable , Once Tuple is created then we can't be modify it's content .\n",
        "\n",
        "2.Syntax\n",
        "\n",
        "  - List - List uses square brackets to define any list []\n",
        "      - my_list=[1,2,3 \"ankit\"]\n",
        "\n",
        "  - Tuple - To define any tuple we use parentheses ()\n",
        "    - my_tuple=(1,2,3)\n",
        "\n",
        "3. Use Cases\n",
        "\n",
        "- List: Used when data needs to be modified or when dynamic operations like appending or removing elements are required.\n",
        "\n",
        "        - my_list = [1, 2, 3]\n",
        "        - my_list.append(4)  # Adds an element\n",
        "        - print(my_list)  # Output: [1, 2, 3, 4]\n",
        "\n",
        "- Tuple: Used when data should remain constant (e.g., configurations, fixed collections) or as dictionary keys.\n",
        "\n",
        "        - my_tuple = (1, 2, 3)\n",
        "        - my_dict = {my_tuple: \"value\"}  # Tuples can be used as keys\n",
        "        - print(my_dict)  # Output: {(1, 2, 3): 'value'}\n",
        "\n",
        "4.Memory Consumption\n",
        "  - List - List Requires more memory due to its ability to grow dynamically.\n",
        "  - Tuple - Occupies less memory since it is immutable and does not need overhead for modifications\n",
        "\n",
        "5.Function and Methods\n",
        "  - List\n",
        "    - my_list = [1, 2, 3]\n",
        "    - my_list.append(4)       # Adds an element\n",
        "    - my_list.remove(2)       # Removes an element\n",
        "    - print(my_list)          # Output: [1, 3, 4]\n",
        "\n",
        "- Tuple: Limited methods (e.g., count, index) since it is immutable.\n",
        "\n",
        "    - my_tuple = (1, 2, 3, 2)\n",
        "    - print(my_tuple.count(2))  # Output: 2 (counts occurrences)\n",
        "    - print(my_tuple.index(3))  # Output: 2 (finds index of 3)\n",
        "\n",
        "Q4. **Describe how dictionaries store data ?**\n",
        "\n",
        "- Dictionaries are used to store data values in key:value pairs. A dictionary is a collection which is ordered*, changeable and do not allow duplicates\n",
        "\n",
        "    - Hashing:\n",
        "\n",
        "        - Each key in a dictionary is passed through a hashing function to generate a unique hash value (an integer).\n",
        "\n",
        "        - This hash value determines where the key-value pair is stored in the dictionary's underlying data structure.\n",
        "\n",
        "  - Buckets:\n",
        "\n",
        "    - The dictionary uses an array-like structure called a hash table or bucket array.\n",
        "Each slot (or \"bucket\") in this array corresponds to a hash value, and it stores the key-value pair at the computed index.\n",
        "\n",
        "- Collisions:\n",
        "\n",
        "    - If two keys produce the same hash value (a phenomenon called a hash collision), Python uses a collision resolution strategy.\n",
        "\n",
        "    - Typically, it uses open addressing or chaining to store multiple key-value pairs in the same bucket without overwriting.\n",
        "\n",
        "    - In Python dictionaries, open addressing is used with probing to find an alternative location in the table for the new key-value pair.\n",
        "\n",
        "- Dynamic Resizing:\n",
        "\n",
        "    - Dictionaries dynamically resize when their load factor (the ratio of stored elements to the total number of buckets) exceeds a threshold.\n",
        "\n",
        "    - Resizing involves creating a larger hash table and rehashing all existing keys to redistribute them.\n",
        "\n",
        "Q5. **Why might you use a set instead of a list in Python?**\n",
        "\n",
        "- Because sets cannot have multiple occurrences of the same element, it makes sets highly useful to efficiently remove duplicate values from a list or tuple and to perform common math operations like unions and intersections.\n",
        "\n",
        "- Indexing\n",
        "      \n",
        "    - List supports indexing, i.e., a list is an indexed sequence.\n",
        "\n",
        "    - Set doesn’t support indexing, i.e., the set is a non-indexed sequence.\n",
        "\n",
        "- Duplicates\n",
        "\n",
        "    - Duplicate values are allowed in the list.\n",
        "    \n",
        "    - Set always contains the unique value, i.e., It does not contain any duplicate value.\n",
        "\n",
        "- Order\n",
        "\n",
        "  - List maintains the order of the element.\n",
        "\n",
        "  - Set doesn’t maintain the order of the element.\n",
        "\n",
        "Q6.** What is a string in Python, and how is it different from a list ?**\n",
        "\n",
        "- A string in Python is a sequence of characters enclosed in single quotes ('), double quotes (\"), or triple quotes (''' or \"\"\"). Strings are used to represent text data and are immutable, meaning their content cannot be changed after creation.\n",
        "\n",
        "  - Exmaple : my_string = \"Hello, World!\"\n",
        "\n",
        "- Differences Between Strings and Lists\n",
        "\n",
        "Although both strings and lists are sequences and share some similarities (e.g., indexing, slicing),\n",
        "\n",
        "- Differnt between String and List\n",
        "\n",
        "    - Data Type\n",
        "\n",
        "        - String is sequence of characters.\n",
        "\n",
        "        - list sequence of elements (of any type)\n",
        "    \n",
        "    - Mutability\n",
        "\n",
        "        - String is Immutable (cannot be modified).\n",
        "        \n",
        "        - List is Mutable (can be modified).\n",
        "\n",
        "    - Elements\n",
        "    \n",
        "        - String  contain elements of  Characters (always strings of length 1).\n",
        "      \n",
        "      - List contains elements of any data type (e.g., integers, floats, strings).\n",
        "\n",
        "    - Syntax\n",
        "        - String Enclosed in quotes: ' ' or \" \".\n",
        "        - List Enclosed in square brackets [ ].\n",
        "\n",
        "Q7.**How do tuples ensure data integrity in Python ?**\n",
        "\n",
        "- Tuples ensure data integrity in Python by being immutable. Once a tuple is created, its elements cannot be changed, added, or removed. This immutability provides several benefits, particularly for scenarios where data consistency and safety are crucial.\n",
        "\n",
        "Q.8. **What is a hash table, and how does it relate to dictionaries in Python ?**\n",
        "- A hash table is a data structure that stores key-value pairs and uses a hashing function to compute an index for each key, enabling fast retrieval of values. It provides average ( O(1) ) time complexity for lookups, insertions, and deletions, making it highly efficient for many applications.\n",
        "\n",
        "- In Python, the underlying implementation of dictionaries is based on hash tables. This allows dictionaries to offer efficient access and management of key-value pairs\n",
        "-A hash table is the foundational data structure behind Python dictionaries.\n",
        "- It allows dictionaries to provide fast and efficient access, insertion, and deletion of key-value pairs.\n",
        "- Keys must be immutable and hashable, ensuring consistency and reliability in storage and retrieval\n",
        "\n",
        "Q.9. **Can lists contain different data types in Python ?**\n",
        "\n",
        "- Yes, lists in Python can contain elements of different data types. This flexibility is a key feature of Python lists, allowing you to store and manipulate heterogeneous collections of data within the same list.\n",
        "\n",
        "- Python lists are dynamic and untyped:\n",
        "\n",
        "A list can store any type of object because Python uses dynamic typing.\n",
        "Internally, lists are implemented as arrays of pointers, where each pointer references an object in memory. Since objects are self-describing in Python, the list doesn't need to know the type of each element.\n",
        "\n",
        "Q.10**. Explain why strings are immutable in Python ?**\n",
        "\n",
        "- Strings in Python are immutable, meaning once a string is created, its content cannot be changed. Any operation that appears to modify a string actually creates a new string object. This immutability is a deliberate design choice in Python and provides several important benefits.\n",
        "\n",
        "- Strings in Python are stored in memory as arrays of characters. However, Python does not allow direct modification of this memory.\n",
        "\n",
        "- Operations like concatenation, slicing, or transformations (.replace(), .upper(), etc.) create new string objects rather than modifying the original.\n",
        "\n",
        "\n",
        "Q.11. **What advantages do dictionaries offer over lists for certain tasks ?**\n",
        "\n",
        "- Dictionaries offer several advantages over lists for certain tasks, primarily due to their ability to efficiently store and access key-value pairs. Let's explore the key benefits of using dictionaries over lists in specific scenarios.\n",
        "\n",
        "    - Fast Lookup and Retrieval (O(1) Time Complexity)\n",
        "    - Key-Value Data Storage\n",
        "    - Flexible Data Structures\n",
        "    - No Need for Index-Based Operations\n",
        "    - Useful in Data Aggregation and Mapping\n",
        "\n",
        "Q. 12 . **Describe a scenario where using a tuple would be preferable over a list ?**\n",
        "\n",
        "- using a tuple instead of a list offers benefits like immutability, memory efficiency, and data integrity. Let's break this down.\n",
        "\n",
        "  - Immutability Guarantees\n",
        "      - In Python, tuples are immutable, meaning once you create a tuple representing a point, its contents (x, y) cannot be changed.\n",
        "\n",
        "      - This ensures data integrity and prevents accidental updates to a point's position.\n",
        "\n",
        "  - Memory Efficiency\n",
        "    - Tuples use less memory than lists because they have a smaller memory overhead.\n",
        "\n",
        "    - Since tuples are immutable, Python can optimize their storage by reusing memory for identical tuples through interning\n",
        "\n",
        "  - Fast Lookup and Performance\n",
        "\n",
        "      - Due to the smaller memory footprint and efficient memory access patterns, tuples are slightly faster than lists in read-heavy operations.\n",
        "\n",
        "  - Tuple as a Dictionary Key\n",
        "\n",
        "      - Since tuples are hashable, you can use them as keys in dictionaries to map points to properties like color, size, or texture\n",
        "\n",
        "Q. 13. **How do sets handle duplicate values in Python ?**\n",
        "\n",
        "  - In Python, a set is a built-in data structure that stores unique, unordered elements. One of the key properties of a set is that it automatically removes duplicate values. This means that each element in a set appears only once, and any duplicate values are automatically eliminated.\n",
        "  \n",
        "  - Sets in Python automatically handle duplicates by ensuring that only unique, hashable elements are stored\n",
        "\n",
        "  - Sets in Python automatically handle duplicates by ensuring that only unique, hashable elements are stored\n",
        "\n",
        "  - Use sets when you need fast lookups, deduplication, and unique collections of data.\n",
        "\n",
        "  - Remember that sets do not maintain order, but you can use a list or an OrderedDict if order is required\n",
        "\n",
        "Q.14. **How does the “in” keyword work differently for lists and dictionaries ?**\n",
        "\n",
        "  - The in keyword is used in Python to check for the presence of an element. However, its behavior differs depending on whether you are working with a list or a dictionary.\n",
        "\n",
        "    - Using in with Lists\n",
        "\n",
        "        - The in keyword iterates through the list to see if the specified element exists in it.\n",
        "        \n",
        "        - Since a list is an ordered collection of items, this search operation requires scanning the entire list in the worst case, resulting in a time complexity of O(n)\n",
        "\n",
        "    - Using in with Dictionaries\n",
        "\n",
        "        - In a dictionary, the in keyword checks for the presence of a key, not a value. This search is much faster because dictionaries are implemented as hash tables, which provide an average time complexity of O(1).\n",
        "\n",
        "Q.15 . **Can you modify the elements of a tuple? Explain why or why not ?**\n",
        "\n",
        "  - No, We  cannot modify the elements of a tuple in Python because tuples are immutable.\n",
        "  \n",
        "  - Once a tuple is created, its contents cannot be changed.\n",
        "\n",
        "Q. 16.  **What is a nested dictionary, and give an example of its use case ?**\n",
        "\n",
        "  - A nested dictionary is a dictionary where one or more of its values are themselves dictionaries. In other words, it contains dictionaries within dictionaries.\n",
        "  \n",
        "  - This structure allows you to represent complex data relationships and hierarchical information.\n",
        "  \n",
        "  - Nested dictionaries are useful for organizing data with multiple levels of detail, such as database records, nested configurations, or structured data representations\n",
        "\n",
        "  nested_dict = {\n",
        "    'key1': {\n",
        "        'sub_key1': 'value1',\n",
        "        'sub_key2': 'value2'\n",
        "    },\n",
        "    'key2': {\n",
        "        'sub_key1': 'value3',\n",
        "        'sub_key2': 'value4'\n",
        "    }\n",
        "}\n",
        "\n",
        "Q.17.  **Describe the time complexity of accessing elements in a dictionary ?**\n",
        "\n",
        "  - A dictionary is implemented as a hash table.\n",
        "  \n",
        "  - This means that accessing, inserting, or deleting an element in a dictionary typically has very efficient time complexity due to the underlying hashing mechanism.\n",
        "\n",
        "    - Accessing an Element\n",
        "\n",
        "        - Hash Function Calculation:\n",
        "\n",
        "            - Python computes the hash value of the key to determine its location in memory.\n",
        "            - The hash function maps the key to an index in the internal hash table.\n",
        "\n",
        "      - Direct Lookup:\n",
        "\n",
        "        - Python then looks up the element at the computed index in the hash table.\n",
        "        \n",
        "        - This allows Python to access the element directly without iterating through the dictionary.\n",
        "\n",
        "    - Time Complexity\n",
        "        - Average Case: O(1) (Constant time)\n",
        "            - In most cases, accessing an element in a Python dictionary takes approximately O(1).\n",
        "            \n",
        "            - This means that the lookup operation is extremely fast\n",
        "\n"
      ],
      "metadata": {
        "id": "jLqBz2lqUeI6"
      }
    },
    {
      "cell_type": "code",
      "source": [
        "# -------------------->> Practical Questions <<--------------------\n",
        "\n",
        "#Q - 1. Write a code to create a string with your name and print it.\n",
        "name =\"Ankit Bisht\"\n",
        "print(\"My name is :\", name)\n"
      ],
      "metadata": {
        "colab": {
          "base_uri": "https://localhost:8080/"
        },
        "id": "RkAvXlXnPv41",
        "outputId": "19264575-a63e-48ea-8b12-b239669b301e"
      },
      "execution_count": 2,
      "outputs": [
        {
          "output_type": "stream",
          "name": "stdout",
          "text": [
            "My name is : Ankit Bisht\n"
          ]
        }
      ]
    },
    {
      "cell_type": "code",
      "source": [
        "# Q.2 . Write a code to find the length of the string \"Hello World.\n",
        "\n",
        "str1=\"Hello World\"\n",
        "length_of_string = len(str1)\n",
        "print(\"The length of the string 'Hello World' is:\", length_of_string)"
      ],
      "metadata": {
        "colab": {
          "base_uri": "https://localhost:8080/"
        },
        "id": "mzKD5AToQjbn",
        "outputId": "d12c3318-def6-40ec-ec7b-44251a1ce727"
      },
      "execution_count": 3,
      "outputs": [
        {
          "output_type": "stream",
          "name": "stdout",
          "text": [
            "The length of the string 'Hello World' is: 11\n"
          ]
        }
      ]
    },
    {
      "cell_type": "code",
      "source": [],
      "metadata": {
        "id": "G61by5LWRoKF"
      },
      "execution_count": 3,
      "outputs": []
    },
    {
      "cell_type": "code",
      "source": [
        "#Q.3 Write a code to slice the first 3 characters from the string \"Python Programming\".\n",
        "\n",
        "name = \"Python Programming\"\n",
        "\n",
        "# Slice the first 3 characters\n",
        "sliced_text = name[:3]\n",
        "\n",
        "# Print the result\n",
        "print(\"The first 3 characters are:\", sliced_text)"
      ],
      "metadata": {
        "colab": {
          "base_uri": "https://localhost:8080/"
        },
        "id": "cLfy-b7nQVNa",
        "outputId": "ff65a2c3-6398-47e8-f086-85731a50d902"
      },
      "execution_count": 4,
      "outputs": [
        {
          "output_type": "stream",
          "name": "stdout",
          "text": [
            "The first 3 characters are: Pyt\n"
          ]
        }
      ]
    },
    {
      "cell_type": "code",
      "source": [
        "# Q.4  Write a code to convert the string \"hello\" to uppercase\n",
        "\n",
        "str=\"hello\"\n",
        "\n",
        "# Convert the string to uppercase\n",
        "uppercase_text = str.upper()\n",
        "\n",
        "# Print the result\n",
        "print(\"The string in uppercase is:\", uppercase_text)"
      ],
      "metadata": {
        "colab": {
          "base_uri": "https://localhost:8080/"
        },
        "id": "t4kSTDgLSEWR",
        "outputId": "1a3d2266-fa88-4eaf-f0a0-1d6dcc765e11"
      },
      "execution_count": 6,
      "outputs": [
        {
          "output_type": "stream",
          "name": "stdout",
          "text": [
            "The string in uppercase is: HELLO\n"
          ]
        }
      ]
    },
    {
      "cell_type": "code",
      "source": [],
      "metadata": {
        "id": "HJqBCVwgSaV1"
      },
      "execution_count": 6,
      "outputs": []
    },
    {
      "cell_type": "code",
      "source": [
        "# Q.5 Write a code to replace the word \"apple\" with \"orange\" in the string \"I like apple\"\n",
        "\n",
        "# Defining the  string\n",
        "text = \"I like apple\"\n",
        "\n",
        "# Replace the word \"apple\" with \"orange\"\n",
        "new_text = text.replace(\"apple\", \"orange\")\n",
        "\n",
        "# Print the result\n",
        "print(\"The new string is:\", new_text)\n"
      ],
      "metadata": {
        "colab": {
          "base_uri": "https://localhost:8080/"
        },
        "id": "-Hhs9vOvSYb0",
        "outputId": "dde34c48-163f-4873-a6b9-efdd1625e198"
      },
      "execution_count": 7,
      "outputs": [
        {
          "output_type": "stream",
          "name": "stdout",
          "text": [
            "The new string is: I like orange\n"
          ]
        }
      ]
    },
    {
      "cell_type": "code",
      "source": [
        "# Q.6 Write a code to create a list with numbers 1 to 5 and print it\n",
        "\n",
        "#defining the list\n",
        "\n",
        "number=[1,2,3,4,5]\n",
        "\n",
        "# Printing the list\n",
        "\n",
        "print(\"The List of Number :\", number)\n"
      ],
      "metadata": {
        "colab": {
          "base_uri": "https://localhost:8080/"
        },
        "id": "WKODEEJvS2XA",
        "outputId": "ab4e8320-9c7c-4987-b08d-251233b72d30"
      },
      "execution_count": 9,
      "outputs": [
        {
          "output_type": "stream",
          "name": "stdout",
          "text": [
            "The List of Number : [1, 2, 3, 4, 5]\n"
          ]
        }
      ]
    },
    {
      "cell_type": "code",
      "source": [],
      "metadata": {
        "id": "1twru6WlTcph"
      },
      "execution_count": 9,
      "outputs": []
    },
    {
      "cell_type": "code",
      "source": [
        "# Q.7. Write a code to append the number 10 to the list [1, 2, 3, 4]\n",
        "\n",
        "number = [1, 2, 3, 4]\n",
        "\n",
        "# Append the number 10 to the list\n",
        "number.append(10)\n",
        "\n",
        "# Print the updated list\n",
        "print(\"The updated list is:\", number)"
      ],
      "metadata": {
        "colab": {
          "base_uri": "https://localhost:8080/"
        },
        "id": "7i4xT0p9TG02",
        "outputId": "2b9e9f18-7ad8-4c30-f2c4-420cb341ece4"
      },
      "execution_count": 10,
      "outputs": [
        {
          "output_type": "stream",
          "name": "stdout",
          "text": [
            "The updated list is: [1, 2, 3, 4, 10]\n"
          ]
        }
      ]
    },
    {
      "cell_type": "code",
      "source": [
        "# Q.8.  Write a code to remove the number 3 from the list [1, 2, 3, 4, 5]\n",
        "\n",
        "number = [1, 2, 3, 4, 5]\n",
        "\n",
        "# Remove the number 3 from the list\n",
        "number.remove(3)\n",
        "\n",
        "# Print the updated list\n",
        "print(\"The updated list is:\", number)"
      ],
      "metadata": {
        "colab": {
          "base_uri": "https://localhost:8080/"
        },
        "id": "gvs8ThrSTwL6",
        "outputId": "250a1da2-1712-4b75-9a24-c409eefe81d1"
      },
      "execution_count": 11,
      "outputs": [
        {
          "output_type": "stream",
          "name": "stdout",
          "text": [
            "The updated list is: [1, 2, 4, 5]\n"
          ]
        }
      ]
    },
    {
      "cell_type": "code",
      "source": [
        "# Q.9.  Write a code to access the second element in the list ['a', 'b', 'c', 'd']\n",
        "\n",
        "list1 =['a','b','c','d']\n",
        "\n",
        "# Access the second element (index 1)\n",
        "second_element = list1[1]\n",
        "\n",
        "# Print the second element\n",
        "print(\"The second element in the list is:\", second_element)"
      ],
      "metadata": {
        "colab": {
          "base_uri": "https://localhost:8080/"
        },
        "id": "Bb6PJyfJT-YI",
        "outputId": "b29fb33f-8ff0-4f95-9261-49e08e3ee8ed"
      },
      "execution_count": 12,
      "outputs": [
        {
          "output_type": "stream",
          "name": "stdout",
          "text": [
            "The second element in the list is: b\n"
          ]
        }
      ]
    },
    {
      "cell_type": "code",
      "source": [
        "# Q. 10 . Write a code to reverse the list [10, 20, 30, 40, 50].\n",
        "\n",
        "numbers = [10, 20, 30, 40, 50]\n",
        "\n",
        "# Reverse the list using slicing\n",
        "reversed_numbers = numbers[::-1]\n",
        "\n",
        "# Print the reversed list\n",
        "print(\"The reversed list is:\", reversed_numbers)\n"
      ],
      "metadata": {
        "colab": {
          "base_uri": "https://localhost:8080/"
        },
        "id": "YmfSrvBDUpni",
        "outputId": "6bf43700-b8b9-4d4a-8ed2-16fcde177cc2"
      },
      "execution_count": 13,
      "outputs": [
        {
          "output_type": "stream",
          "name": "stdout",
          "text": [
            "The reversed list is: [50, 40, 30, 20, 10]\n"
          ]
        }
      ]
    },
    {
      "cell_type": "code",
      "source": [
        "# Q.11.  Write a code to create a tuple with the elements 10, 20, 30 and print it.\n",
        "\n",
        "tuple1 = (10, 20, 30)\n",
        "\n",
        "# Printing the tuple\n",
        "print(\"The tuple is:\", tuple1)"
      ],
      "metadata": {
        "colab": {
          "base_uri": "https://localhost:8080/"
        },
        "id": "7teOEzwkVKWf",
        "outputId": "b4d271f6-3a25-441a-e6ca-31fcb14e5d6d"
      },
      "execution_count": 14,
      "outputs": [
        {
          "output_type": "stream",
          "name": "stdout",
          "text": [
            "The tuple is: (10, 20, 30)\n"
          ]
        }
      ]
    },
    {
      "cell_type": "code",
      "source": [
        "# Q .12.  Write a code to access the first element of the tuple ('apple', 'banana', 'cherry')\n",
        "\n",
        "fruits = ('apple', 'banana', 'cherry')\n",
        "\n",
        "# Accessing first element of the tuple\n",
        "f_fruit = fruits[0]\n",
        "\n",
        "# Printing the first element\n",
        "print(\"The first element is:\", f_fruit)"
      ],
      "metadata": {
        "colab": {
          "base_uri": "https://localhost:8080/"
        },
        "id": "DTg7cr-wVYXD",
        "outputId": "d0eeb9ea-3562-4964-82cb-af8a2f0c4955"
      },
      "execution_count": 15,
      "outputs": [
        {
          "output_type": "stream",
          "name": "stdout",
          "text": [
            "The first element is: apple\n"
          ]
        }
      ]
    },
    {
      "cell_type": "code",
      "source": [
        "# Q. 13 .  Write a code to count how many times the number 2 appears in the tuple (1, 2, 3, 2, 4, 2)\n",
        "\n",
        "number = (1, 2, 3, 2, 4, 2)\n",
        "\n",
        "# Counting the number of times 2 appears in the tuple\n",
        "count_of_2 = number.count(2)\n",
        "\n",
        "# Printing the count\n",
        "print(\"The number 2 appears\", count_of_2, \"times in the tuple.\")"
      ],
      "metadata": {
        "colab": {
          "base_uri": "https://localhost:8080/"
        },
        "id": "LD1onX5WVp2M",
        "outputId": "43d4a51a-fb60-4c0a-c8a2-f7a864c04d9c"
      },
      "execution_count": 16,
      "outputs": [
        {
          "output_type": "stream",
          "name": "stdout",
          "text": [
            "The number 2 appears 3 times in the tuple.\n"
          ]
        }
      ]
    },
    {
      "cell_type": "code",
      "source": [
        "# Q. 14 . Write a code to find the index of the element \"cat\" in the tuple ('dog', 'cat', 'rabbit').\n",
        "\n",
        "animal =('dog', 'cat', 'rabbit')\n",
        "\n",
        "# Finding the index of the element \"cat\"\n",
        "\n",
        "index_cat = animal.index('cat')\n",
        "\n",
        "# Printing the index\n",
        "\n",
        "print(\"The index of 'cat' in the tuple is:\", index_cat)"
      ],
      "metadata": {
        "colab": {
          "base_uri": "https://localhost:8080/"
        },
        "id": "cZHUENgvV-_A",
        "outputId": "fa27f0bf-2dd6-45d3-997c-92f3d6289909"
      },
      "execution_count": 18,
      "outputs": [
        {
          "output_type": "stream",
          "name": "stdout",
          "text": [
            "The index of 'cat' in the tuple is: 1\n"
          ]
        }
      ]
    },
    {
      "cell_type": "code",
      "source": [],
      "metadata": {
        "id": "Wy8J6SgIWXHu"
      },
      "execution_count": 18,
      "outputs": []
    },
    {
      "cell_type": "code",
      "source": [
        "# Q.15. Write a code to check if the element \"banana\" is in the tuple ('apple', 'orange', 'banana').\n",
        "\n",
        "fruit =('apple','orange','banana')\n",
        "\n",
        "if 'banana' in fruits:\n",
        "    print(\"The element 'banana' is present in the tuple.\")\n",
        "else:\n",
        "    print(\"The element 'banana' is not present in the tuple.\")\n"
      ],
      "metadata": {
        "colab": {
          "base_uri": "https://localhost:8080/"
        },
        "id": "-_A0qqDFWU2E",
        "outputId": "7c968f9a-54fd-4e82-b01c-644376aa8bae"
      },
      "execution_count": 19,
      "outputs": [
        {
          "output_type": "stream",
          "name": "stdout",
          "text": [
            "The element 'banana' is present in the tuple.\n"
          ]
        }
      ]
    },
    {
      "cell_type": "code",
      "source": [
        "# Q.16 . Write a code to create a set with the elements 1, 2, 3, 4, 5 and print it\n",
        "\n",
        "num = {1, 2, 3, 4, 5}\n",
        "\n",
        "# Printing the set\n",
        "\n",
        "print(\"The set is:\", num)"
      ],
      "metadata": {
        "colab": {
          "base_uri": "https://localhost:8080/"
        },
        "id": "-AoG3pwhWorq",
        "outputId": "1df85791-1caa-4f90-e5be-84f814e9a26a"
      },
      "execution_count": 21,
      "outputs": [
        {
          "output_type": "stream",
          "name": "stdout",
          "text": [
            "The set is: {1, 2, 3, 4, 5}\n"
          ]
        }
      ]
    },
    {
      "cell_type": "code",
      "source": [
        "# Q. 17.  Write a code to add the element 6 to the set {1, 2, 3, 4}.\n",
        "\n",
        "num = {1, 2, 3, 4}\n",
        "\n",
        "# Add the element 6 to the set\n",
        "\n",
        "num.add(6)\n",
        "\n",
        "# Printing the updated set\n",
        "print(\"The updated set is:\", num)"
      ],
      "metadata": {
        "colab": {
          "base_uri": "https://localhost:8080/"
        },
        "id": "LIgqp-FTW614",
        "outputId": "57012307-4c78-44ce-99f7-90dda45d348b"
      },
      "execution_count": 22,
      "outputs": [
        {
          "output_type": "stream",
          "name": "stdout",
          "text": [
            "The updated set is: {1, 2, 3, 4, 6}\n"
          ]
        }
      ]
    },
    {
      "cell_type": "code",
      "source": [
        "\n",
        "# Q. 18. Write a code to create a tuple with the elements 10, 20, 30 and print it.\n",
        "\n",
        "new_tuple=(10,20,30)\n",
        "\n",
        "print(\" Tuple is : \", new_tuple)"
      ],
      "metadata": {
        "colab": {
          "base_uri": "https://localhost:8080/"
        },
        "id": "3KYKwVDRXKzL",
        "outputId": "ecb24340-4e21-4db3-cb71-acdf06aa9552"
      },
      "execution_count": 23,
      "outputs": [
        {
          "output_type": "stream",
          "name": "stdout",
          "text": [
            " Tuple is :  (10, 20, 30)\n"
          ]
        }
      ]
    },
    {
      "cell_type": "code",
      "source": [
        "\n",
        "# Q. 19.  Write a code to access the first element of the tuple ('apple', 'banana', 'cherry')\n",
        "\n",
        "fruits = ('apple', 'banana', 'cherry')\n",
        "\n",
        "# Accessing the first element of the tuple\n",
        "first_fruit = fruits[0]\n",
        "\n",
        "# Printing the first element\n",
        "print(\"The first element is:\", first_fruit)"
      ],
      "metadata": {
        "colab": {
          "base_uri": "https://localhost:8080/"
        },
        "id": "zbDzlBHaXg3t",
        "outputId": "9154be22-2301-4cae-e6ab-1b3f6a1d0f5b"
      },
      "execution_count": 24,
      "outputs": [
        {
          "output_type": "stream",
          "name": "stdout",
          "text": [
            "The first element is: apple\n"
          ]
        }
      ]
    },
    {
      "cell_type": "code",
      "source": [
        "\n",
        "# Q.20. Write a code to count how many times the number 2 appears in the tuple (1, 2, 3, 2, 4, 2).\n",
        "\n",
        "number = (1, 2, 3, 2, 4, 2)\n",
        "\n",
        "# Counting the number of times 2 appears in the tuple\n",
        "count_of_2 = number.count(2)\n",
        "\n",
        "# Printing the count\n",
        "print(\"The number 2 appears\", count_of_2, \"times in the tuple.\")"
      ],
      "metadata": {
        "colab": {
          "base_uri": "https://localhost:8080/"
        },
        "id": "927jN76rYVM4",
        "outputId": "0c7a841a-4001-4269-8e17-3c390acce109"
      },
      "execution_count": 25,
      "outputs": [
        {
          "output_type": "stream",
          "name": "stdout",
          "text": [
            "The number 2 appears 3 times in the tuple.\n"
          ]
        }
      ]
    },
    {
      "cell_type": "code",
      "source": [
        "\n",
        "# Q. 21.  Write a code to find the index of the element \"cat\" in the tuple ('dog', 'cat', 'rabbit')\n",
        "\n",
        "\n",
        "animal =('dog', 'cat', 'rabbit')\n",
        "\n",
        "# Finding the index of the element \"cat\"\n",
        "\n",
        "index_cat = animal.index('cat')\n",
        "\n",
        "# Printing the index\n",
        "\n",
        "print(\"The index of 'cat' in the tuple is:\", index_cat)"
      ],
      "metadata": {
        "colab": {
          "base_uri": "https://localhost:8080/"
        },
        "id": "ArTOBERPae-e",
        "outputId": "29ba75ac-cc7a-42b9-abc1-3be8c22b25b5"
      },
      "execution_count": 26,
      "outputs": [
        {
          "output_type": "stream",
          "name": "stdout",
          "text": [
            "The index of 'cat' in the tuple is: 1\n"
          ]
        }
      ]
    },
    {
      "cell_type": "code",
      "source": [
        "\n",
        "\n",
        "# Q. 22.  Write a code to check if the element \"banana\" is in the tuple ('apple', 'orange', 'banana').\n",
        "\n",
        "fruit =('apple','orange','banana')\n",
        "\n",
        "if 'banana' in fruits:\n",
        "    print(\"The element 'banana' is present in the tuple.\")\n",
        "else:\n",
        "    print(\"The element 'banana' is not present in the tuple.\")\n"
      ],
      "metadata": {
        "colab": {
          "base_uri": "https://localhost:8080/"
        },
        "id": "PkV8kBXhanML",
        "outputId": "b22e1331-c484-40a3-d74d-86e5aea41650"
      },
      "execution_count": 27,
      "outputs": [
        {
          "output_type": "stream",
          "name": "stdout",
          "text": [
            "The element 'banana' is present in the tuple.\n"
          ]
        }
      ]
    },
    {
      "cell_type": "code",
      "source": [
        "\n",
        "\n",
        "# Q. 23. Write a code to create a set with the elements 1, 2, 3, 4, 5 and print it\n",
        "\n",
        "num = {1, 2, 3, 4, 5}\n",
        "\n",
        "# Printing the set\n",
        "\n",
        "print(\"The set is:\", num)"
      ],
      "metadata": {
        "colab": {
          "base_uri": "https://localhost:8080/"
        },
        "id": "NMPbe7zJaxqY",
        "outputId": "0f850fda-a3bb-4372-93e8-aa14e9c84619"
      },
      "execution_count": 28,
      "outputs": [
        {
          "output_type": "stream",
          "name": "stdout",
          "text": [
            "The set is: {1, 2, 3, 4, 5}\n"
          ]
        }
      ]
    },
    {
      "cell_type": "code",
      "source": [
        "\n",
        "# Q.24. Write a code to add the element 6 to the set {1, 2, 3, 4}.\n",
        "\n",
        "num = {1, 2, 3, 4}\n",
        "\n",
        "# Add the element 6 to the set\n",
        "\n",
        "num.add(6)\n",
        "\n",
        "# Printing the updated set\n",
        "print(\"The updated set is:\", num)"
      ],
      "metadata": {
        "colab": {
          "base_uri": "https://localhost:8080/"
        },
        "id": "Ya7ohZJHa8yG",
        "outputId": "2916c02a-ddea-499a-a856-f2192d596f05"
      },
      "execution_count": 29,
      "outputs": [
        {
          "output_type": "stream",
          "name": "stdout",
          "text": [
            "The updated set is: {1, 2, 3, 4, 6}\n"
          ]
        }
      ]
    },
    {
      "cell_type": "code",
      "source": [],
      "metadata": {
        "id": "fte_ymnCbNyt"
      },
      "execution_count": null,
      "outputs": []
    }
  ]
}